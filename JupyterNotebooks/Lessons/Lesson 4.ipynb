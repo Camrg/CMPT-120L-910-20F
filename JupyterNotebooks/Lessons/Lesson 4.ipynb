{
 "metadata": {
  "language_info": {
   "codemirror_mode": {
    "name": "ipython",
    "version": 3
   },
   "file_extension": ".py",
   "mimetype": "text/x-python",
   "name": "python",
   "nbconvert_exporter": "python",
   "pygments_lexer": "ipython3",
   "version": "3.8.5-final"
  },
  "orig_nbformat": 2,
  "kernelspec": {
   "name": "python_defaultSpec_1600132368253",
   "display_name": "Python 3.8.5 64-bit"
  }
 },
 "nbformat": 4,
 "nbformat_minor": 2,
 "cells": [
  {
   "source": [
    "# Introduction to Programming\n",
    "\n",
    "Topics for today will include:\n",
    "- Mozilla Developer Network [(MDN)](https://developer.mozilla.org/en-US/)\n",
    "- Python Documentation [(Official Documentation)](https://docs.python.org/3/)\n",
    "- Importance of Design\n",
    "- Functions\n",
    "- Built in Functions\n",
    "- Reviewing Our Tools\n",
    "- Importance of Logic\n",
    "\n",
    "\n",
    "\n",
    "\n"
   ],
   "cell_type": "markdown",
   "metadata": {}
  },
  {
   "source": [
    "## Mozilla Developer Network [(MDN)](https://developer.mozilla.org/en-US/)\n",
    "---"
   ],
   "cell_type": "markdown",
   "metadata": {}
  },
  {
   "source": [
    "## Python Documentation [(Official Documentation)](https://docs.python.org/3/)\n",
    "---"
   ],
   "cell_type": "markdown",
   "metadata": {}
  },
  {
   "source": [
    "## Importance of Design\n",
    "---"
   ],
   "cell_type": "markdown",
   "metadata": {}
  },
  {
   "source": [
    "## Functions\n",
    "---"
   ],
   "cell_type": "markdown",
   "metadata": {}
  },
  {
   "source": [
    "## Built in Functions\n",
    "---"
   ],
   "cell_type": "markdown",
   "metadata": {}
  },
  {
   "source": [
    "## Reviewing Our Tools\n",
    "---"
   ],
   "cell_type": "markdown",
   "metadata": {}
  },
  {
   "source": [
    "## Importance of Logic\n",
    "---"
   ],
   "cell_type": "markdown",
   "metadata": {}
  }
 ]
}