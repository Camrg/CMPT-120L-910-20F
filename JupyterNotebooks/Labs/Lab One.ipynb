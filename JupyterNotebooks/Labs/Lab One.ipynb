{
 "metadata": {
  "language_info": {
   "codemirror_mode": {
    "name": "ipython",
    "version": 3
   },
   "file_extension": ".py",
   "mimetype": "text/x-python",
   "name": "python",
   "nbconvert_exporter": "python",
   "pygments_lexer": "ipython3",
   "version": "3.8.5-final"
  },
  "orig_nbformat": 2,
  "kernelspec": {
   "name": "python38564bit174de8eb14344a9b84b86f7cc3234e14",
   "display_name": "Python 3.8.5 64-bit"
  }
 },
 "nbformat": 4,
 "nbformat_minor": 2,
 "cells": [
  {
   "cell_type": "markdown",
   "metadata": {},
   "source": [
    "# Lab One\n",
    "---\n",
    "\n",
    "Ok for this lab we're going to reiterate a lot of the things that we went over in class.\n",
    "\n",
    "Our Goals are:\n",
    "- Defining variables\n",
    "- Using math\n",
    "- Manipulating variables\n",
    "- Changing data types\n",
    "- Playing with lists"
   ]
  },
  {
   "cell_type": "code",
   "execution_count": 7,
   "metadata": {
    "tags": []
   },
   "outputs": [
    {
     "output_type": "stream",
     "name": "stdout",
     "text": "36\nHello world\nis_doing_Lab1 = True\n2.5\n"
    }
   ],
   "source": [
    "# Define 4 variables, one of each type listed: [Integer, String, Boolean, Float]. Print all 4.\n",
    "\n",
    "Integer=36\n",
    "String=\"Hello world\"\n",
    "Boolean=\"is_doing_Lab1 = True\"\n",
    "Float=2.5\n",
    "print(Integer)\n",
    "print(String)\n",
    "print(Boolean)\n",
    "print(Float)"
   ]
  },
  {
   "cell_type": "code",
   "execution_count": 3,
   "metadata": {
    "tags": []
   },
   "outputs": [
    {
     "output_type": "stream",
     "name": "stdout",
     "text": "40\n24\n6.0\n216\n4\n"
    }
   ],
   "source": [
    "# With whatever variables you'd like demonstrate the following: [Addition, Subtraction, Division, Multiplication, Modulo]. Print all 5.\n",
    "print(36+4)\n",
    "print(36-12)\n",
    "print(36/6)\n",
    "print(36*6)\n",
    "print(36%16)\n"
   ]
  },
  {
   "cell_type": "code",
   "execution_count": 8,
   "metadata": {
    "tags": []
   },
   "outputs": [
    {
     "output_type": "stream",
     "name": "stdout",
     "text": "57\n"
    }
   ],
   "source": [
    "# Using 2 variables and addition print the number 57\n",
    "variable1=32\n",
    "variable2=25\n",
    "print(variable1+variable2)"
   ]
  },
  {
   "cell_type": "code",
   "execution_count": 21,
   "metadata": {
    "tags": []
   },
   "outputs": [
    {
     "output_type": "stream",
     "name": "stdout",
     "text": "<class 'int'>\n<class 'str'>\n<class 'str'>\n<class 'int'>\n<class 'str'>\n<class 'float'>\n<class 'int'>\n<class 'bool'>\n"
    }
   ],
   "source": [
    "# Change this variable to a string and print\n",
    "number_into_string = 37\n",
    "number = 37\n",
    "print(type(number))\n",
    "number = str(number)\n",
    "print(type(number))\n",
    "# Change this variable to a integer and print\n",
    "string_into_number = '10'\n",
    "print(type(string_into_number))\n",
    "string_into_number = int(string_into_number)\n",
    "print(type(string_into_number))\n",
    "# Change this variable to a float and print\n",
    "string_into_float = '299.99'\n",
    "print(type(string_into_float))\n",
    "string_into_float = float(string_into_float)\n",
    "print(type(string_into_float))\n",
    "# Change this variable to a boolean and print\n",
    "number_into_boolean = 37\n",
    "print(type(number_into_boolean))\n",
    "number_into_boolean = bool(number_into_boolean)\n",
    "print(type(number_into_boolean))\n"
   ]
  },
  {
   "cell_type": "code",
   "execution_count": 24,
   "metadata": {
    "tags": []
   },
   "outputs": [
    {
     "output_type": "stream",
     "name": "stdout",
     "text": "<class 'list'>\n<class 'list'>\n"
    }
   ],
   "source": [
    "# Make me a list of any type\n",
    "browsers=[\"firefox\",\"chrome\",\"edge\",\"explorer\"]\n",
    "print(type(browsers))\n",
    "numbers=[1,2,3,4,5,6,7,8,9]\n",
    "print(type(numbers))\n"
   ]
  },
  {
   "cell_type": "code",
   "execution_count": null,
   "metadata": {},
   "outputs": [],
   "source": []
  }
 ]
}