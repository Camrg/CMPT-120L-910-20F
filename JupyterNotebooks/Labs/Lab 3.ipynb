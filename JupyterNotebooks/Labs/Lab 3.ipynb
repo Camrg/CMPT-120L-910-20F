{
 "metadata": {
  "language_info": {
   "codemirror_mode": {
    "name": "ipython",
    "version": 3
   },
   "file_extension": ".py",
   "mimetype": "text/x-python",
   "name": "python",
   "nbconvert_exporter": "python",
   "pygments_lexer": "ipython3",
   "version": "3.8.6-final"
  },
  "orig_nbformat": 2,
  "kernelspec": {
   "name": "Python 3.8.6 64-bit",
   "display_name": "Python 3.8.6 64-bit",
   "metadata": {
    "interpreter": {
     "hash": "1e86d3557548c4b419fcb502f0eb7a1e8029a7c750cdd224f34ff38addca510b"
    }
   }
  }
 },
 "nbformat": 4,
 "nbformat_minor": 2,
 "cells": [
  {
   "source": [
    "# Lab Three\n",
    "---\n",
    "\n",
    "For this lab we're going to be making and using a bunch of functions. \n",
    "\n",
    "Our Goals are:\n",
    "- Searching our Documentation\n",
    "- Using built in functions\n",
    "- Making our own functions\n",
    "- Combining functions\n",
    "- Structuring solutions"
   ],
   "cell_type": "markdown",
   "metadata": {}
  },
  {
   "cell_type": "code",
   "execution_count": 1,
   "metadata": {},
   "outputs": [],
   "source": [
    "# For the following built in functions we didn't touch on them in class. I want you to look for them in the python documentation and implement them."
   ]
  },
  {
   "cell_type": "code",
   "execution_count": 2,
   "metadata": {
    "tags": []
   },
   "outputs": [
    {
     "output_type": "stream",
     "name": "stdout",
     "text": "hEy THerE hOWs It gOing\n"
    }
   ],
   "source": [
    "# I want you to find a built in function to SWAP CASE on a string. Print it.\n",
    "string = \"HeY thERe HowS iT GoING\"\n",
    "swapped_case = string.swapcase()\n",
    "print(swapped_case)\n",
    "# For example the string \"HeY thERe HowS iT GoING\" turns into \"hEy THerE hOWs It gOing\"\n",
    "sample_string = \"HeY thERe HowS iT GoING\""
   ]
  },
  {
   "cell_type": "code",
   "execution_count": 3,
   "metadata": {
    "tags": []
   },
   "outputs": [
    {
     "output_type": "stream",
     "name": "stdout",
     "text": "----Hey There----\n"
    }
   ],
   "source": [
    "# I want you to find a built in function to CENTER a string and pad the sides with 4 dashes(-) a side. Print it.\n",
    "str = \"Hey There\"\n",
    "centered_string = str.center(17,\"-\")\n",
    "print(centered_string)\n",
    "\n",
    "# For example the string \"Hey There\" becomes \"----Hey There----\"\n",
    "\n",
    "sample_string = \"Hey There\""
   ]
  },
  {
   "cell_type": "code",
   "execution_count": 4,
   "metadata": {
    "tags": []
   },
   "outputs": [
    {
     "output_type": "stream",
     "name": "stdout",
     "text": "('abcdefg', '.', 'hijklmnop')\n"
    }
   ],
   "source": [
    "# I want you to find a built in function to PARTITION a string. Print it.\n",
    "string = \"abcdefg.hijklmnop\"\n",
    "print(string.partition('.'))\n",
    "# For example the string \"abcdefg.hijklmnop\" would come out to be [\"abcdefg\",\".\",\"hijklmnop\"]\n",
    "\n",
    "sample_string = \"abcdefg.hijklmnop\""
   ]
  },
  {
   "cell_type": "code",
   "execution_count": 2,
   "metadata": {
    "tags": []
   },
   "outputs": [
    {
     "output_type": "stream",
     "name": "stdout",
     "text": "9\n"
    }
   ],
   "source": [
    "# I want you to write a function that will take in a number and raise it to the power given. \n",
    "def exponent(x,y):\n",
    "    return(x**y)\n",
    "print(exponent(3,2))\n",
    "# For example if given the numbers 2 and 3. The math that the function should do is 2^3 and should print out or return 8. Print the output."
   ]
  },
  {
   "cell_type": "code",
   "execution_count": 3,
   "metadata": {
    "tags": []
   },
   "outputs": [
    {
     "output_type": "stream",
     "name": "stdout",
     "text": "1\n"
    }
   ],
   "source": [
    "# I want you to write a function that will take in a list and see how many times a given number is in the list. \n",
    "def finder(arr, x):\n",
    "    return (arr.count(x))\n",
    "arr = [2,3,5,2,3,6,7,8,2]\n",
    "x=5\n",
    "print(finder(arr, x))\n",
    "\n",
    "\n",
    "# For example if the array given is [2,3,5,2,3,6,7,8,2] and the number given is 2 the function should print out or return 3. Print the output."
   ]
  },
  {
   "cell_type": "code",
   "execution_count": 35,
   "metadata": {
    "tags": []
   },
   "outputs": [
    {
     "output_type": "stream",
     "name": "stdout",
     "text": "0.5\n"
    }
   ],
   "source": [
    "# Use the functions given to create a slope function. The function should be named slope and have 4 parameters.\n",
    "\n",
    "# If you don't remember the slope formula is (y2 - y1) / (x2 - x1) If this doesn't make sense look up `Slope Formula` on google.\n",
    "\n",
    "def division(x, y):\n",
    "    return x / y\n",
    "\n",
    "def subtraction(x, y):\n",
    "    return x - y\n",
    "\n",
    "def slope (y1, y2, x1, x2):\n",
    "    x = (y2 - y1)/(x2 - x1)\n",
    "    return(x)\n",
    "print(slope(3,2,4,2))\n",
    "\n"
   ]
  },
  {
   "cell_type": "code",
   "execution_count": 34,
   "metadata": {
    "tags": []
   },
   "outputs": [
    {
     "output_type": "stream",
     "name": "stdout",
     "text": "5\n"
    }
   ],
   "source": [
    "# Use the functions given to create a distance function. The function should be named function and have 4 parameters.\n",
    "\n",
    "# HINT: You'll need a built in function heretoo. You'll also be able to use function written earlier in the notebook as long as you've run those cells. \n",
    "\n",
    "# If you don't remember the distance formula is the square root of the following ((x2 - x1)^2 + (y2 - y1)^2). If this doesn't make sense look up `Distance Formula` on google.\n",
    "\n",
    "import math\n",
    "\n",
    "def addition(x, y):\n",
    "    return x + y\n",
    "def function(y1,y2,x1,x2):\n",
    "    x = ((x2 - x1)**2 + (y2 - y1)**2)\n",
    "    return(x)\n",
    "print(function(3,2,4,2))\n",
    "\n",
    "\n"
   ]
  },
  {
   "cell_type": "code",
   "execution_count": null,
   "metadata": {},
   "outputs": [],
   "source": [
    "#Please tell me this is working"
   ]
  }
 ]
}