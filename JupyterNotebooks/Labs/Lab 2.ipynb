{
 "metadata": {
  "language_info": {
   "codemirror_mode": {
    "name": "ipython",
    "version": 3
   },
   "file_extension": ".py",
   "mimetype": "text/x-python",
   "name": "python",
   "nbconvert_exporter": "python",
   "pygments_lexer": "ipython3",
   "version": "3.8.5-final"
  },
  "orig_nbformat": 2,
  "kernelspec": {
<<<<<<< Updated upstream
<<<<<<< HEAD
   "name": "python38564bit174de8eb14344a9b84b86f7cc3234e14",
   "display_name": "Python 3.8.5 64-bit"
=======
   "name": "python38532bitb7ab685eaff842bb90be15eaafe7149e",
   "display_name": "Python 3.8.5 32-bit"
>>>>>>> 600085b942a27bcd1f7f9ece6e4ef32932425642
=======
   "name": "python38564bit3ba3789a78164b26bd37fc407f9152ea",
   "display_name": "Python 3.8.5 64-bit"
>>>>>>> Stashed changes
  }
 },
 "nbformat": 4,
 "nbformat_minor": 2,
 "cells": [
  {
   "cell_type": "markdown",
   "metadata": {},
   "source": [
    "# Lab Two\n",
    "---\n",
    "\n",
    "For this lab we're going to get into logic\n",
    "\n",
    "Our Goals are:\n",
    "- Using Conditionals\n",
    "- Using Loops\n",
    "- Creating a Function\n",
    "- Using a Class"
   ]
  },
  {
   "cell_type": "code",
<<<<<<< HEAD
   "execution_count": 99,
   "metadata": {
    "tags": []
   },
   "outputs": [
    {
     "output_type": "stream",
     "name": "stdout",
     "text": "complete\n"
    }
   ],
   "source": [
    "# Create an if statement.\n",
    "Complete = True\n",
    "if True:\n",
    "    print(\"complete\")"
=======
   "execution_count": null,
   "metadata": {
    "tags": []
   },
   "outputs": [],
   "source": [
    "# Create an if statement\n",
    "doing_Lab2 = True\n",
    "if doing_Lab2:\n",
    "    print(\"working hard\")\n"
>>>>>>> 600085b942a27bcd1f7f9ece6e4ef32932425642
   ]
  },
  {
   "cell_type": "code",
<<<<<<< HEAD
   "execution_count": 101,
   "metadata": {
    "tags": []
   },
   "outputs": [
    {
     "output_type": "error",
     "ename": "SyntaxError",
     "evalue": "invalid syntax (<ipython-input-101-8579b0f95e64>, line 5)",
     "traceback": [
      "\u001b[1;36m  File \u001b[1;32m\"<ipython-input-101-8579b0f95e64>\"\u001b[1;36m, line \u001b[1;32m5\u001b[0m\n\u001b[1;33m    elif:\u001b[0m\n\u001b[1;37m        ^\u001b[0m\n\u001b[1;31mSyntaxError\u001b[0m\u001b[1;31m:\u001b[0m invalid syntax\n"
     ]
    }
   ],
   "source": [
    "# Create an if else statement.\n",
    "Complete = not(True)\n",
    "if True:\n",
    "    print(\"complete\")\n",
    "elif:\n",
    "    print(\"incomplete\")"
=======
   "execution_count": null,
   "metadata": {
    "tags": []
   },
   "outputs": [],
   "source": [
    "# Create an if else statement\n",
    "doing_Lab2 = False\n",
    "if doing_Lab2:\n",
    "    print(\"working hard\")\n",
    "else:\n",
    "    print(\"must be chillin\")"
>>>>>>> 600085b942a27bcd1f7f9ece6e4ef32932425642
   ]
  },
  {
   "cell_type": "code",
<<<<<<< HEAD
   "execution_count": 98,
   "metadata": {
    "tags": []
   },
   "outputs": [
    {
     "output_type": "stream",
     "name": "stdout",
     "text": "False\ncompleted\n"
    }
   ],
   "source": [
    "# Create an if elif else statement\n",
    "if 9 > 0:\n",
    "    print(False)\n",
    "if True:\n",
    "    print(\"completed\")\n",
    "elif False:\n",
    "    print(\"Failed\")\n",
    "else:\n",
    "    print(\"IDKWHATSGOINON\")"
=======
   "execution_count": null,
   "metadata": {
    "tags": []
   },
   "outputs": [],
   "source": [
    "# Create an if elif else statement\n",
    "doing_Lab2 = True\n",
    "Chilling_and_done_w_Lab2 = False\n",
    "Lab2_was_easy = False\n",
    "\n",
    "if doing_Lab2:\n",
    "    print(\"gettin work done\")\n",
    "elif Lab2_is_easy and Chilling_and_doing_Lab2:\n",
    "    print(\"gettin cocky are we?\")\n",
    "else:\n",
    "    print(\"should probably get on that\")"
>>>>>>> 600085b942a27bcd1f7f9ece6e4ef32932425642
   ]
  },
  {
   "cell_type": "code",
<<<<<<< HEAD
   "execution_count": 78,
=======
   "execution_count": 43,
>>>>>>> 600085b942a27bcd1f7f9ece6e4ef32932425642
   "metadata": {
    "tags": []
   },
   "outputs": [
    {
     "output_type": "stream",
     "name": "stdout",
     "text": "0\n1\n2\n3\n4\n5\n6\n7\n8\n9\n"
    }
   ],
   "source": [
    "# Create a for loop using range(). Go from 0 to 9. Print out each number.\n",
    "for number in range(10):\n",
<<<<<<< HEAD
    "    print(number)"
=======
    "    print(number)\n"
>>>>>>> 600085b942a27bcd1f7f9ece6e4ef32932425642
   ]
  },
  {
   "cell_type": "code",
<<<<<<< HEAD
   "execution_count": 84,
=======
   "execution_count": 44,
>>>>>>> 600085b942a27bcd1f7f9ece6e4ef32932425642
   "metadata": {
    "tags": []
   },
   "outputs": [
    {
     "output_type": "stream",
     "name": "stdout",
     "text": "Blue\nYellow\nRed\nGreen\nPurple\nMagenta\nLilac\n7\n"
    }
   ],
   "source": [
    "# Create a for loop iterating through this list and printing out the value.\n",
    "arr = ['Blue', 'Yellow', 'Red', 'Green', 'Purple', 'Magenta', 'Lilac']\n",
    "for color in arr:\n",
    "    print(color)\n",
    "# Get the length of the list above and print it.\n",
    "print(len(arr))"
   ]
  },
  {
   "cell_type": "code",
   "execution_count": 7,
   "metadata": {
    "tags": []
   },
   "outputs": [
    {
     "output_type": "stream",
     "name": "stdout",
     "text": "0\n1\n2\n3\n4\n5\n"
    }
   ],
   "source": [
<<<<<<< HEAD
    "# Create a while loop that ends after 6 times through. Print something for each pass.\n"
=======
    "# Create a while loop that ends after 6 times through. Print something for each pass.\n",
    "number = 0\n",
    "while number < 6:\n",
    "    print(number)\n",
    "    number += 1"
   ]
  },
  {
   "cell_type": "code",
   "execution_count": 11,
   "metadata": {
    "tags": []
   },
   "outputs": [],
   "source": [
    "# Create a function to add 2 numbers together. Print out the number\n",
    "Value1 = 10\n",
    "Value2 = 37\n",
    "\n",
    "def addition (number1, number2):\n",
    "    total = (number1 + number2)\n",
    "    print(total)\n"
>>>>>>> 600085b942a27bcd1f7f9ece6e4ef32932425642
   ]
  },
  {
   "cell_type": "code",
   "execution_count": 12,
   "metadata": {
    "tags": []
   },
   "outputs": [
    {
     "output_type": "stream",
     "name": "stdout",
     "text": "Number is even\n"
    }
   ],
   "source": [
    "# Create a function that tells you if a number is odd or even and print the result.\n",
    "def odd_or_even(number):\n",
    "    if number % 2 == 0:\n",
    "        print(\"Number is even\")\n",
    "    else:\n",
    "        print(\"Number is odd\")\n",
    "\n",
    "odd_or_even(76)"
   ]
  },
  {
   "cell_type": "code",
   "execution_count": 15,
   "metadata": {
    "tags": []
   },
   "outputs": [],
   "source": [
    "# Initialize an instance of the following class. Use a variable to store the object and then call the info function to print out the attributes.\n",
    "class Dog(object):\n",
    "    def __init__(self, name, height, weight, breed):\n",
    "        self.name = name\n",
    "        self.height = height\n",
    "        self.weight = weight\n",
    "        self.breed = breed\n",
    "\n",
    "    def info(self):\n",
    "        print(\"Name:\", self.name)\n",
    "        print(\"Weight:\", str(self.weight) + \" Pounds\")\n",
    "        print(\"Height:\", str(self.height) + \" Inches\")\n",
    "        print(\"Breed:\", self.breed)\n",
    "Chey = Dog(\"Cheyenne\", 36, 65, \"Mutt\")"
   ]
  },
  {
   "cell_type": "code",
   "execution_count": null,
   "metadata": {},
   "outputs": [],
   "source": []
  }
 ]
}